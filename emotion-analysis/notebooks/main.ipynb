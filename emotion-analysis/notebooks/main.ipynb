{
 "cells": [
  {
   "cell_type": "markdown",
   "metadata": {},
   "source": [
    "### Imports"
   ]
  },
  {
   "cell_type": "code",
   "execution_count": 1,
   "metadata": {},
   "outputs": [],
   "source": [
    "%load_ext autoreload\n",
    "%autoreload 2"
   ]
  },
  {
   "cell_type": "markdown",
   "metadata": {},
   "source": [
    "Internal Imports"
   ]
  },
  {
   "cell_type": "code",
   "execution_count": 2,
   "metadata": {},
   "outputs": [
    {
     "name": "stdout",
     "output_type": "stream",
     "text": [
      "JAX Backend:  gpu\n",
      "JAX Version:  0.4.23\n",
      "Python:  3.11.0 (main, Oct  4 2023, 22:00:02) [GCC 13.2.1 20230801]\n",
      "System:  posix.uname_result(sysname='Linux', nodename='archlinux', release='6.7.0-arch3-1', version='#1 SMP PREEMPT_DYNAMIC Sat, 13 Jan 2024 14:37:14 +0000', machine='x86_64')\n"
     ]
    }
   ],
   "source": [
    "# Find \".env\" file and add the package to $PATH\n",
    "import os, sys\n",
    "import typing as t\n",
    "from typing import Dict\n",
    "from dotenv import find_dotenv\n",
    "sys.path.append(os.path.dirname(find_dotenv()))\n",
    "\n",
    "# Use local package for modularity\n",
    "from emotion_analysis import config\n",
    "from emotion_analysis.utils.weight import INSWeight\n",
    "from emotion_analysis.model.pretrained import load_text_model\n",
    "from emotion_analysis.model.trainer import TrainerModule\n",
    "from emotion_analysis.data.dataset import ECACDataset\n",
    "from emotion_analysis.data.loader import DefaultDataLoader\n",
    "from emotion_analysis.data.types import EmotionCauseEncoding\n",
    "from emotion_analysis.data.types import TrainSplit, DataSplit\n",
    "from emotion_analysis.data.transform import TokenizeTransform, EncodeTransform, CollateTransform, Transform, WeightTransform"
   ]
  },
  {
   "cell_type": "markdown",
   "metadata": {},
   "source": [
    "External Imports"
   ]
  },
  {
   "cell_type": "code",
   "execution_count": 3,
   "metadata": {},
   "outputs": [],
   "source": [
    "import flax\n",
    "import flax.linen as nn\n",
    "import jax\n",
    "import jax.numpy as jnp\n",
    "import jax.random as jrm\n",
    "import jax.tree_util as tree_util\n",
    "import mlflow as mlf\n",
    "import seaborn as sea\n",
    "import numpy as np\n",
    "import optax as opt\n",
    "from jax import Array\n",
    "from jax.tree_util import tree_structure\n",
    "from jax.typing import ArrayLike, DTypeLike\n",
    "from numpy import ndarray\n",
    "from torch.utils.data import DataLoader, Dataset, Subset, random_split"
   ]
  },
  {
   "cell_type": "markdown",
   "metadata": {},
   "source": [
    "### Dataset"
   ]
  },
  {
   "cell_type": "code",
   "execution_count": 4,
   "metadata": {},
   "outputs": [],
   "source": [
    "# Load all data subsets in-memory\n",
    "dataset: Dict[DataSplit, ECACDataset] = ECACDataset.read_data(config.data_dir, config.subtask)\n",
    "ds_train, ds_valid, ds_test = *random_split(dataset['train'], [0.75, 0.25]), dataset['test']\n",
    "\n",
    "# Extract relevant statistics\n",
    "num_classes: int = dataset['train'].num_emotions\n",
    "emotion_labels = dataset['train'].emotion_labels\n",
    "emotion_weights = INSWeight(num_classes, emotion_labels)\n",
    "\n",
    "# Load pretrained model\n",
    "text_encoder_pretrained = load_text_model(config.model_repo, config.cache_dir)\n",
    "tokenizer = text_encoder_pretrained.tokenizer\n",
    "\n",
    "# Compose data transformations\n",
    "tokenize = TokenizeTransform(tokenizer, max_seq_len=config.max_uttr_len)\n",
    "encode = EncodeTransform(tokenize, max_conv_len=config.max_conv_len)\n",
    "weight = WeightTransform(emotion_weights)\n",
    "collator = CollateTransform(Transform.chain(encode, weight))\n",
    "\n",
    "# Train: drop_last=True to avoid JAX graph recompilation\n",
    "dataloader: t.Dict[TrainSplit, DataLoader[EmotionCauseEncoding]] = {\n",
    "    'train': DefaultDataLoader(ds_train,  shuffle=True, collate_fn=collator, drop_last=True),\n",
    "    'valid': DefaultDataLoader(ds_valid, shuffle=False, collate_fn=collator),\n",
    "    'test' : DefaultDataLoader( ds_test, shuffle=False, collate_fn=collator),\n",
    "}"
   ]
  },
  {
   "cell_type": "markdown",
   "metadata": {},
   "source": [
    "### Model"
   ]
  },
  {
   "cell_type": "code",
   "execution_count": 10,
   "metadata": {},
   "outputs": [],
   "source": [
    "key = jrm.PRNGKey(config.seed)\n",
    "key, trainer_key = jrm.split(key, 2)\n",
    "trainer = TrainerModule(\n",
    "    key=trainer_key,\n",
    "    finetune=config.finetune,\n",
    "    batch_size=config.batch_size,\n",
    "    max_conv_len=config.max_conv_len,\n",
    "    max_uttr_len=config.max_uttr_len,\n",
    "    text_model_repo=config.model_repo,\n",
    "    learning_rate=config.learning_rate,\n",
    ")"
   ]
  },
  {
   "cell_type": "markdown",
   "metadata": {},
   "source": [
    "### Training"
   ]
  },
  {
   "cell_type": "code",
   "execution_count": 12,
   "metadata": {},
   "outputs": [
    {
     "name": "stderr",
     "output_type": "stream",
     "text": [
      "inference: 100%|██████████| 42/42 [00:26<00:00,  1.61it/s]\n"
     ]
    }
   ],
   "source": [
    "pred = trainer.predict(dataloader['test'])"
   ]
  },
  {
   "cell_type": "code",
   "execution_count": 16,
   "metadata": {},
   "outputs": [
    {
     "data": {
      "text/plain": [
       "(16, 33, 33)"
      ]
     },
     "execution_count": 16,
     "metadata": {},
     "output_type": "execute_result"
    }
   ],
   "source": [
    "pred[0]['span_start'].shape"
   ]
  },
  {
   "cell_type": "code",
   "execution_count": 7,
   "metadata": {},
   "outputs": [
    {
     "name": "stderr",
     "output_type": "stream",
     "text": [
      "[train][epoch: 0]:   0%|          | 0/64 [20:34<?, ?it/s]\n",
      "[training]:   0%|          | 0/40 [20:34<?, ?it/s]"
     ]
    },
    {
     "name": "stdout",
     "output_type": "stream",
     "text": [
      "Unexpected exception formatting exception. Falling back to standard exception\n"
     ]
    },
    {
     "name": "stderr",
     "output_type": "stream",
     "text": [
      "\n",
      "Traceback (most recent call last):\n",
      "  File \"/home/invokariman/.cache/pypoetry/virtualenvs/emotion-analysis-adVGJZXD-py3.11/lib/python3.11/site-packages/IPython/core/interactiveshell.py\", line 3553, in run_code\n",
      "    exec(code_obj, self.user_global_ns, self.user_ns)\n",
      "  File \"/tmp/ipykernel_8272/200836941.py\", line 1, in <module>\n",
      "    trainer.train(\n",
      "  File \"/home/invokariman/Projects/git/ub-g21-irtm/emotion-analysis/emotion_analysis/model/trainer.py\", line 256, in train\n",
      "    pred = output['cause']['out'][conv_mask, :].argmax(axis=1)\n",
      "        ^^^^^^^^^^^^^^^^^^^^^^^^^^^^^^^^^^^^^^^^^\n",
      "  File \"/home/invokariman/Projects/git/ub-g21-irtm/emotion-analysis/emotion_analysis/model/trainer.py\", line 202, in train_epoch\n",
      "  File \"/home/invokariman/.cache/pypoetry/virtualenvs/emotion-analysis-adVGJZXD-py3.11/lib/python3.11/site-packages/jax/_src/traceback_util.py\", line 179, in reraise_with_filtered_traceback\n",
      "    return fun(*args, **kwargs)\n",
      "           ^^^^^^^^^^^^^^^^^^^^\n",
      "  File \"/home/invokariman/.cache/pypoetry/virtualenvs/emotion-analysis-adVGJZXD-py3.11/lib/python3.11/site-packages/jax/_src/pjit.py\", line 257, in cache_miss\n",
      "    outs, out_flat, out_tree, args_flat, jaxpr = _python_pjit_helper(\n",
      "                                                 ^^^^^^^^^^^^^^^^^^^^\n",
      "  File \"/home/invokariman/.cache/pypoetry/virtualenvs/emotion-analysis-adVGJZXD-py3.11/lib/python3.11/site-packages/jax/_src/pjit.py\", line 163, in _python_pjit_helper\n",
      "    args_flat, _, params, in_tree, out_tree, _, _, _ = infer_params_fn(\n",
      "                                                       ^^^^^^^^^^^^^^^^\n",
      "  File \"/home/invokariman/.cache/pypoetry/virtualenvs/emotion-analysis-adVGJZXD-py3.11/lib/python3.11/site-packages/jax/_src/api.py\", line 317, in infer_params\n",
      "    return pjit.common_infer_params(pjit_info_args, *args, **kwargs)\n",
      "           ^^^^^^^^^^^^^^^^^^^^^^^^^^^^^^^^^^^^^^^^^^^^^^^^^^^^^^^^^\n",
      "  File \"/home/invokariman/.cache/pypoetry/virtualenvs/emotion-analysis-adVGJZXD-py3.11/lib/python3.11/site-packages/jax/_src/pjit.py\", line 493, in common_infer_params\n",
      "    jaxpr, consts, canonicalized_out_shardings_flat, out_layouts_flat = _pjit_jaxpr(\n",
      "                                                                        ^^^^^^^^^^^^\n",
      "  File \"/home/invokariman/.cache/pypoetry/virtualenvs/emotion-analysis-adVGJZXD-py3.11/lib/python3.11/site-packages/jax/_src/pjit.py\", line 996, in _pjit_jaxpr\n",
      "    jaxpr, final_consts, out_type = _create_pjit_jaxpr(\n",
      "                                    ^^^^^^^^^^^^^^^^^^^\n",
      "  File \"/home/invokariman/.cache/pypoetry/virtualenvs/emotion-analysis-adVGJZXD-py3.11/lib/python3.11/site-packages/jax/_src/linear_util.py\", line 349, in memoized_fun\n",
      "    ans = call(fun, *args)\n",
      "          ^^^^^^^^^^^^^^^^\n",
      "  File \"/home/invokariman/.cache/pypoetry/virtualenvs/emotion-analysis-adVGJZXD-py3.11/lib/python3.11/site-packages/jax/_src/pjit.py\", line 936, in _create_pjit_jaxpr\n",
      "    jaxpr, global_out_avals, consts = pe.trace_to_jaxpr_dynamic(\n",
      "                                      ^^^^^^^^^^^^^^^^^^^^^^^^^^\n",
      "  File \"/home/invokariman/.cache/pypoetry/virtualenvs/emotion-analysis-adVGJZXD-py3.11/lib/python3.11/site-packages/jax/_src/profiler.py\", line 336, in wrapper\n",
      "    return func(*args, **kwargs)\n",
      "           ^^^^^^^^^^^^^^^^^^^^^\n",
      "  File \"/home/invokariman/.cache/pypoetry/virtualenvs/emotion-analysis-adVGJZXD-py3.11/lib/python3.11/site-packages/jax/_src/interpreters/partial_eval.py\", line 2288, in trace_to_jaxpr_dynamic\n",
      "    jaxpr, out_avals, consts = trace_to_subjaxpr_dynamic(\n",
      "                               ^^^^^^^^^^^^^^^^^^^^^^^^^^\n",
      "  File \"/home/invokariman/.cache/pypoetry/virtualenvs/emotion-analysis-adVGJZXD-py3.11/lib/python3.11/site-packages/jax/_src/interpreters/partial_eval.py\", line 2310, in trace_to_subjaxpr_dynamic\n",
      "    ans = fun.call_wrapped(*in_tracers_)\n",
      "          ^^^^^^^^^^^^^^^^^^^^^^^^^^^^^^\n",
      "  File \"/home/invokariman/.cache/pypoetry/virtualenvs/emotion-analysis-adVGJZXD-py3.11/lib/python3.11/site-packages/jax/_src/linear_util.py\", line 191, in call_wrapped\n",
      "    ans = self.f(*args, **dict(self.params, **kwargs))\n",
      "          ^^^^^^^^^^^^^^^^^^^^^^^^^^^^^^^^^^^^^^^^^^^^\n",
      "  File \"/home/invokariman/Projects/git/ub-g21-irtm/emotion-analysis/emotion_analysis/model/trainer.py\", line 167, in train_step\n",
      "    conv_attn_mask = nn.make_attention_mask(batch['conv_attn_mask'], batch['conv_attn_mask']).squeeze(axis=1)\n",
      "                 ^^^^^^^^^^^^^^^^^^^^^^^^^^^^^^^^^^^^^^^^^^^^^^^^^^^\n",
      "  File \"/home/invokariman/.cache/pypoetry/virtualenvs/emotion-analysis-adVGJZXD-py3.11/lib/python3.11/site-packages/jax/_src/traceback_util.py\", line 179, in reraise_with_filtered_traceback\n",
      "    return fun(*args, **kwargs)\n",
      "           ^^^^^^^^^^^^^^^^^^^^\n",
      "  File \"/home/invokariman/.cache/pypoetry/virtualenvs/emotion-analysis-adVGJZXD-py3.11/lib/python3.11/site-packages/jax/_src/api.py\", line 737, in value_and_grad_f\n",
      "    ans, vjp_py, aux = _vjp(\n",
      "                       ^^^^^\n",
      "  File \"/home/invokariman/.cache/pypoetry/virtualenvs/emotion-analysis-adVGJZXD-py3.11/lib/python3.11/site-packages/jax/_src/api.py\", line 2228, in _vjp\n",
      "    out_primal, out_vjp, aux = ad.vjp(\n",
      "                               ^^^^^^^\n",
      "  File \"/home/invokariman/.cache/pypoetry/virtualenvs/emotion-analysis-adVGJZXD-py3.11/lib/python3.11/site-packages/jax/_src/interpreters/ad.py\", line 144, in vjp\n",
      "    out_primals, pvals, jaxpr, consts, aux = linearize(traceable, *primals, has_aux=True)\n",
      "                                             ^^^^^^^^^^^^^^^^^^^^^^^^^^^^^^^^^^^^^^^^^^^^\n",
      "  File \"/home/invokariman/.cache/pypoetry/virtualenvs/emotion-analysis-adVGJZXD-py3.11/lib/python3.11/site-packages/jax/_src/interpreters/ad.py\", line 131, in linearize\n",
      "    jaxpr, out_pvals, consts = pe.trace_to_jaxpr_nounits(jvpfun_flat, in_pvals)\n",
      "                               ^^^^^^^^^^^^^^^^^^^^^^^^^^^^^^^^^^^^^^^^^^^^^^^^\n",
      "  File \"/home/invokariman/.cache/pypoetry/virtualenvs/emotion-analysis-adVGJZXD-py3.11/lib/python3.11/site-packages/jax/_src/profiler.py\", line 336, in wrapper\n",
      "    return func(*args, **kwargs)\n",
      "           ^^^^^^^^^^^^^^^^^^^^^\n",
      "  File \"/home/invokariman/.cache/pypoetry/virtualenvs/emotion-analysis-adVGJZXD-py3.11/lib/python3.11/site-packages/jax/_src/interpreters/partial_eval.py\", line 774, in trace_to_jaxpr_nounits\n",
      "    jaxpr, (out_pvals, consts, env) = fun.call_wrapped(pvals)\n",
      "                                      ^^^^^^^^^^^^^^^^^^^^^^^\n",
      "  File \"/home/invokariman/.cache/pypoetry/virtualenvs/emotion-analysis-adVGJZXD-py3.11/lib/python3.11/site-packages/jax/_src/linear_util.py\", line 191, in call_wrapped\n",
      "    ans = self.f(*args, **dict(self.params, **kwargs))\n",
      "          ^^^^^^^^^^^^^^^^^^^^^^^^^^^^^^^^^^^^^^^^^^^^\n",
      "  File \"/home/invokariman/Projects/git/ub-g21-irtm/emotion-analysis/emotion_analysis/model/trainer.py\", line 164, in <lambda>\n",
      "    output = state.apply_fn({ 'params': params }, **data, train=train, rngs={ 'dropout': drop_key })\n",
      "                             ^^^^^^^^^^^^^^^^^^^^^^^^^^^^^^^^^^^^^^^^^^^^^^^^^^^^\n",
      "  File \"/home/invokariman/Projects/git/ub-g21-irtm/emotion-analysis/emotion_analysis/model/trainer.py\", line 143, in compute_loss\n",
      "    key: Any,\n",
      "             \n",
      "  File \"/home/invokariman/Projects/git/ub-g21-irtm/emotion-analysis/emotion_analysis/model/trainer.py\", line 143, in compute_loss\n",
      "    key: Any,\n",
      "             \n",
      "  File \"_pydevd_bundle/pydevd_cython.pyx\", line 1457, in _pydevd_bundle.pydevd_cython.SafeCallWrapper.__call__\n",
      "  File \"_pydevd_bundle/pydevd_cython.pyx\", line 701, in _pydevd_bundle.pydevd_cython.PyDBFrame.trace_dispatch\n",
      "  File \"_pydevd_bundle/pydevd_cython.pyx\", line 1152, in _pydevd_bundle.pydevd_cython.PyDBFrame.trace_dispatch\n",
      "  File \"_pydevd_bundle/pydevd_cython.pyx\", line 1135, in _pydevd_bundle.pydevd_cython.PyDBFrame.trace_dispatch\n",
      "  File \"_pydevd_bundle/pydevd_cython.pyx\", line 312, in _pydevd_bundle.pydevd_cython.PyDBFrame.do_wait_suspend\n",
      "  File \"/home/invokariman/.cache/pypoetry/virtualenvs/emotion-analysis-adVGJZXD-py3.11/lib/python3.11/site-packages/debugpy/_vendored/pydevd/pydevd.py\", line 2070, in do_wait_suspend\n",
      "    keep_suspended = self._do_wait_suspend(thread, frame, event, arg, suspend_type, from_this_thread, frames_tracker)\n",
      "                     ^^^^^^^^^^^^^^^^^^^^^^^^^^^^^^^^^^^^^^^^^^^^^^^^^^^^^^^^^^^^^^^^^^^^^^^^^^^^^^^^^^^^^^^^^^^^^^^^\n",
      "  File \"/home/invokariman/.cache/pypoetry/virtualenvs/emotion-analysis-adVGJZXD-py3.11/lib/python3.11/site-packages/debugpy/_vendored/pydevd/pydevd.py\", line 2106, in _do_wait_suspend\n",
      "    time.sleep(0.01)\n",
      "KeyboardInterrupt\n",
      "\n",
      "During handling of the above exception, another exception occurred:\n",
      "\n",
      "Traceback (most recent call last):\n",
      "  File \"/home/invokariman/.cache/pypoetry/virtualenvs/emotion-analysis-adVGJZXD-py3.11/lib/python3.11/site-packages/IPython/core/interactiveshell.py\", line 2144, in showtraceback\n",
      "    stb = self.InteractiveTB.structured_traceback(\n",
      "          ^^^^^^^^^^^^^^^^^^^^^^^^^^^^^^^^^^^^^^^^\n",
      "  File \"/home/invokariman/.cache/pypoetry/virtualenvs/emotion-analysis-adVGJZXD-py3.11/lib/python3.11/site-packages/IPython/core/ultratb.py\", line 1435, in structured_traceback\n",
      "    return FormattedTB.structured_traceback(\n",
      "           ^^^^^^^^^^^^^^^^^^^^^^^^^^^^^^^^^\n",
      "  File \"/home/invokariman/.cache/pypoetry/virtualenvs/emotion-analysis-adVGJZXD-py3.11/lib/python3.11/site-packages/IPython/core/ultratb.py\", line 1326, in structured_traceback\n",
      "    return VerboseTB.structured_traceback(\n",
      "           ^^^^^^^^^^^^^^^^^^^^^^^^^^^^^^^\n",
      "  File \"/home/invokariman/.cache/pypoetry/virtualenvs/emotion-analysis-adVGJZXD-py3.11/lib/python3.11/site-packages/IPython/core/ultratb.py\", line 1173, in structured_traceback\n",
      "    formatted_exception = self.format_exception_as_a_whole(etype, evalue, etb, number_of_lines_of_context,\n",
      "                          ^^^^^^^^^^^^^^^^^^^^^^^^^^^^^^^^^^^^^^^^^^^^^^^^^^^^^^^^^^^^^^^^^^^^^^^^^^^^^^^^\n",
      "  File \"/home/invokariman/.cache/pypoetry/virtualenvs/emotion-analysis-adVGJZXD-py3.11/lib/python3.11/site-packages/IPython/core/ultratb.py\", line 1088, in format_exception_as_a_whole\n",
      "    frames.append(self.format_record(record))\n",
      "                  ^^^^^^^^^^^^^^^^^^^^^^^^^^\n",
      "  File \"/home/invokariman/.cache/pypoetry/virtualenvs/emotion-analysis-adVGJZXD-py3.11/lib/python3.11/site-packages/IPython/core/ultratb.py\", line 970, in format_record\n",
      "    frame_info.lines, Colors, self.has_colors, lvals\n",
      "    ^^^^^^^^^^^^^^^^\n",
      "  File \"/home/invokariman/.cache/pypoetry/virtualenvs/emotion-analysis-adVGJZXD-py3.11/lib/python3.11/site-packages/IPython/core/ultratb.py\", line 792, in lines\n",
      "    return self._sd.lines\n",
      "           ^^^^^^^^^^^^^^\n",
      "  File \"/home/invokariman/.cache/pypoetry/virtualenvs/emotion-analysis-adVGJZXD-py3.11/lib/python3.11/site-packages/stack_data/utils.py\", line 145, in cached_property_wrapper\n",
      "    value = obj.__dict__[self.func.__name__] = self.func(obj)\n",
      "                                               ^^^^^^^^^^^^^^\n",
      "  File \"/home/invokariman/.cache/pypoetry/virtualenvs/emotion-analysis-adVGJZXD-py3.11/lib/python3.11/site-packages/stack_data/core.py\", line 734, in lines\n",
      "    pieces = self.included_pieces\n",
      "             ^^^^^^^^^^^^^^^^^^^^\n",
      "  File \"/home/invokariman/.cache/pypoetry/virtualenvs/emotion-analysis-adVGJZXD-py3.11/lib/python3.11/site-packages/stack_data/utils.py\", line 145, in cached_property_wrapper\n",
      "    value = obj.__dict__[self.func.__name__] = self.func(obj)\n",
      "                                               ^^^^^^^^^^^^^^\n",
      "  File \"/home/invokariman/.cache/pypoetry/virtualenvs/emotion-analysis-adVGJZXD-py3.11/lib/python3.11/site-packages/stack_data/core.py\", line 681, in included_pieces\n",
      "    pos = scope_pieces.index(self.executing_piece)\n",
      "                             ^^^^^^^^^^^^^^^^^^^^\n",
      "  File \"/home/invokariman/.cache/pypoetry/virtualenvs/emotion-analysis-adVGJZXD-py3.11/lib/python3.11/site-packages/stack_data/utils.py\", line 145, in cached_property_wrapper\n",
      "    value = obj.__dict__[self.func.__name__] = self.func(obj)\n",
      "                                               ^^^^^^^^^^^^^^\n",
      "  File \"/home/invokariman/.cache/pypoetry/virtualenvs/emotion-analysis-adVGJZXD-py3.11/lib/python3.11/site-packages/stack_data/core.py\", line 660, in executing_piece\n",
      "    return only(\n",
      "           ^^^^^\n",
      "  File \"/home/invokariman/.cache/pypoetry/virtualenvs/emotion-analysis-adVGJZXD-py3.11/lib/python3.11/site-packages/executing/executing.py\", line 116, in only\n",
      "    raise NotOneValueFound('Expected one value, found 0')\n",
      "executing.executing.NotOneValueFound: Expected one value, found 0\n"
     ]
    }
   ],
   "source": [
    "trainer.train(\n",
    "    num_epochs=40,\n",
    "    train_dataloader=dataloader['train'],\n",
    "    valid_dataloader=dataloader['valid'],\n",
    ")"
   ]
  }
 ],
 "metadata": {
  "kernelspec": {
   "display_name": "emotion-analysis-adVGJZXD-py3.11",
   "language": "python",
   "name": "python3"
  },
  "language_info": {
   "codemirror_mode": {
    "name": "ipython",
    "version": 3
   },
   "file_extension": ".py",
   "mimetype": "text/x-python",
   "name": "python",
   "nbconvert_exporter": "python",
   "pygments_lexer": "ipython3",
   "version": "3.11.0"
  }
 },
 "nbformat": 4,
 "nbformat_minor": 2
}
