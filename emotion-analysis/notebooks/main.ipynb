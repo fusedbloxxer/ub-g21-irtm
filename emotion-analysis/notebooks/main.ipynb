{
 "cells": [
  {
   "cell_type": "markdown",
   "metadata": {},
   "source": [
    "External Imports"
   ]
  },
  {
   "cell_type": "code",
   "execution_count": 1,
   "metadata": {},
   "outputs": [],
   "source": [
    "import typing as t\n",
    "import os, sys, json\n",
    "from dotenv import find_dotenv"
   ]
  },
  {
   "cell_type": "markdown",
   "metadata": {},
   "source": [
    "Internal Imports"
   ]
  },
  {
   "cell_type": "code",
   "execution_count": 2,
   "metadata": {},
   "outputs": [
    {
     "name": "stdout",
     "output_type": "stream",
     "text": [
      "JAX Backend:  gpu\n"
     ]
    }
   ],
   "source": [
    "# Find \".env\" file and add the package to $PATH\n",
    "sys.path.append(os.path.dirname(find_dotenv()))\n",
    "\n",
    "# Use local package for modularity\n",
    "from emotion_analysis import *\n",
    "from emotion_analysis.data.dataset import ECACDataset"
   ]
  },
  {
   "cell_type": "code",
   "execution_count": 29,
   "metadata": {},
   "outputs": [
    {
     "data": {
      "text/plain": [
       "[Utterance(uterrance_id=1, text='Alright , so I am back in high school , I am standing in the middle of the cafeteria , and I realize I am totally naked .', speaker='Chandler', emotion='neutral', video_path=None),\n",
       " Utterance(uterrance_id=2, text='Oh , yeah . Had that dream .', speaker='All', emotion='neutral', video_path=None),\n",
       " Utterance(uterrance_id=3, text='Then I look down , and I realize there is a phone ... there .', speaker='Chandler', emotion='surprise', video_path=None),\n",
       " Utterance(uterrance_id=4, text='Instead of ... ?', speaker='Joey', emotion='surprise', video_path=None),\n",
       " Utterance(uterrance_id=5, text='That is right .', speaker='Chandler', emotion='anger', video_path=None),\n",
       " Utterance(uterrance_id=6, text='Never had that dream .', speaker='Joey', emotion='neutral', video_path=None),\n",
       " Utterance(uterrance_id=7, text='No .', speaker='Phoebe', emotion='neutral', video_path=None),\n",
       " Utterance(uterrance_id=8, text='All of a sudden , the phone starts to ring .', speaker='Chandler', emotion='neutral', video_path=None)]"
      ]
     },
     "execution_count": 29,
     "metadata": {},
     "output_type": "execute_result"
    }
   ],
   "source": [
    "dataset = ECACDataset(DATA_DIR, 'task_1', 'train')\n",
    "dataset[0].conversation"
   ]
  }
 ],
 "metadata": {
  "kernelspec": {
   "display_name": "emotion-analysis-adVGJZXD-py3.11",
   "language": "python",
   "name": "python3"
  },
  "language_info": {
   "codemirror_mode": {
    "name": "ipython",
    "version": 3
   },
   "file_extension": ".py",
   "mimetype": "text/x-python",
   "name": "python",
   "nbconvert_exporter": "python",
   "pygments_lexer": "ipython3",
   "version": "3.11.0"
  }
 },
 "nbformat": 4,
 "nbformat_minor": 2
}
